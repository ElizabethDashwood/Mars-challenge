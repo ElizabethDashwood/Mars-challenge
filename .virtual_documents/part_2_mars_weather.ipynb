


# Import relevant libraries
from splinter import Browser
from bs4 import BeautifulSoup
import matplotlib.pyplot as plt
import pandas as pd


browser = Browser('chrome')








# Visit the website
url = 'https://static.bc-edx.com/data/web/mars_facts/temperature.html'
browser.visit(url)





# Create a Beautiful Soup Object
html = browser.html
soup = BeautifulSoup(html, 'html.parser')


# Extract all rows of data
table_header = soup.find_all('table', class_ = 'table')
table = soup.find_all('tr', class_="data-row")


table_header





## create_an_empty list
list_rows = []

# create loop to define rows
for row in table:
    td = row.find_all('td')
    row = [col.text for col in td]
    list_rows.append(row)

list_rows


# Create a Pandas DataFrame by using the list of rows and a list of the column names
mars_df = pd.DataFrame(list_rows, columns = ['id', 'terrestrial_date', 'sol', 'ls', 'month', 'min_temp', 'pressure'])


# Confirm DataFrame was created successfully
mars_df.head()





# Reference: https://pandas.pydata.org/pandas-docs/stable/reference/api/pandas.DataFrame.dtypes.html
# Examine data type of each column
mars_df.dtypes


# Change data types for data analysis
mars_df = mars_df.astype(
    {"sol":"int64",
    "ls": "int64",
    "month": "int64",
    "min_temp": "float",
    "pressure": "float"}
)

# Reference: https://saturncloud.io/blog/converting-object-column-in-pandas-dataframe-to-datetime-a-data-scientists-guide/
mars_df['terrestrial_date'] = pd.to_datetime(mars_df['terrestrial_date'])


# Confirm type changes were successful by examining data types again
mars_df.dtypes





# Reference: https://www.w3resource.com/pandas/series/series-sort_index.php
# 1. How many months are there on Mars?
mars_months_count_series = mars_df['month'].value_counts()
mars_months_count_series.sort_index()


# 2. How many Martian days' worth of data are there?
martian_days_numpy_object = mars_df['terrestrial_date'].count()
martian_days_numpy_object


# 3. What is the average low temperature by month?
mars_low_temp_groupby_obj = mars_df.groupby(["month"])
mars_low_temp_series = mars_low_temp_groupby_obj["min_temp"].mean()
mars_low_temp_series


# Plot the average temperature by month

figure1 = mars_low_temp_series.plot(kind = 'bar')
figure1.set_xlabel('month')
figure1.set_ylabel('Temperature in Celcius')
plt.show()


# Identify the coldest and hottest months in Curiosity's location
mars_low_to_high_temp_groupby_obj = mars_df.groupby(["month"])
mars_low_to_high_temp_series = mars_low_to_high_temp_groupby_obj["min_temp"].mean() 
mars_low_to_high_temp_df = pd.DataFrame(mars_low_to_high_temp_series)
mars_low_to_high_temp_df.reset_index()
mars_low_to_high_temp_df.sort_values('min_temp', ascending=True)


# Plot the coldest to hottest months in Curiosity's location
figure2 = mars_low_to_high_temp_df.plot(kind = 'bar', )
figure2.set_xlabel('month')
figure2.set_ylabel('Temperature in Celcius')
plt.show()


# 4. Average pressure by Martian month
mars_avg_pressure_groupby_obj = mars_df.groupby(["month"])
mars_avg_pressure_series = mars_avg_pressure_groupby_obj["pressure"].mean()
mars_avg_pressure_series
mars_avg_pressure_series.sort_values(ascending=True)


# Plot the average pressure by month
figure1 = mars_avg_pressure_series.plot(kind = 'bar')
figure1.set_xlabel('month')
figure1.set_ylabel('Atmospheric Pressure')
plt.show()


# 5. How many terrestrial (earth) days are there in a Martian year?















# Reference: https://www.geeksforgeeks.org/saving-a-pandas-dataframe-as-a-csv/
# Write the data to a CSV
mars_df.to_csv('mars_df.csv')


browser.quit()



